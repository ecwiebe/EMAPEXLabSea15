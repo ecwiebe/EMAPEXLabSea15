{
 "cells": [
  {
   "cell_type": "code",
   "execution_count": 2,
   "metadata": {
    "collapsed": false
   },
   "outputs": [
    {
     "name": "stdout",
     "output_type": "stream",
     "text": [
      "1.15740740741\n",
      "TimeCycleHoldLongBeg = 12500\n",
      "TimeCycleHoldLongEnd = 77733\n",
      "TimeCycleRep = 100000\n",
      "TimeDescentProfHoldLong = 95666\n",
      "TimeDescentProfHoldShort = 14300\n",
      "TimeHoldLong = 91233\n"
     ]
    }
   ],
   "source": [
    "# From James Girton:\n",
    "import numpy as np\n",
    "cycle_days=100000./24./3600.\n",
    "print(cycle_days)\n",
    "shortdepth=1500.\n",
    "longdepth=1600.\n",
    "holddepth = 1500.\n",
    "speed=0.12\n",
    "surftime_min=30.\n",
    "extra_time=2*3600.\n",
    "TCR = cycle_days*24*3600.\n",
    "# time hold long\n",
    "THL = TCR-(longdepth+(longdepth-holddepth))/speed-surftime_min*60+extra_time\n",
    "TCHLB = shortdepth/speed\n",
    "TCHLE = THL-holddepth/speed-1000.\n",
    "TDPHL = THL +(longdepth-holddepth)/speed + 3600.\n",
    "TDPHS = shortdepth/speed+1800.\n",
    "\n",
    "print('TimeCycleHoldLongBeg = %d' % TCHLB)\n",
    "print('TimeCycleHoldLongEnd = %d'% TCHLE);\n",
    "print('TimeCycleRep = %d'% TCR);\n",
    "print('TimeDescentProfHoldLong = %d' % TDPHL);\n",
    "print('TimeDescentProfHoldShort = %d'%TDPHS);\n",
    "print('TimeHoldLong = %d'%THL)"
   ]
  },
  {
   "cell_type": "code",
   "execution_count": 4,
   "metadata": {
    "collapsed": false
   },
   "outputs": [
    {
     "name": "stdout",
     "output_type": "stream",
     "text": [
      "864000\n",
      "25830.0\n",
      "PrBotHoldLong: 1750 dbar\n",
      "PrBotHoldShort: 1442 dbar\n",
      "14583.3333333\n",
      "TimeHoldLong: 845583\n",
      "TimeCycleHoldLongBeg should be less than 24030\n",
      "TimeDescentProfHoldLong should be greater than 864000\n"
     ]
    }
   ],
   "source": [
    "# My way:\n",
    "cycle = 10*24*3600 #s this is what we'd like (we won't get it)\n",
    "print cycle\n",
    "surftime = 30.*60.\n",
    "holddepth = 1583. # get this from a simulation.  It is set by `PistonFollowDefault`=62\n",
    "holddepth = 1506. # get this from a simulation.  It is set by `PistonFollowDefault`=63\n",
    "PrBotHoldLong = 1650.\n",
    "speed = 0.12\n",
    "\n",
    "# how deep can we go to get the inertial pair?\n",
    "dt = 14.35*3600./2.\n",
    "print dt\n",
    "dt = dt-surftime # subtract the transmit\n",
    "PrBotHoldShort = dt*speed/2.\n",
    "print('PrBotHoldLong: %1.0f dbar'% np.round(PrBotHoldLong))\n",
    "print('PrBotHoldShort: %1.0f dbar'% np.round(PrBotHoldShort))\n",
    "\n",
    "# get TimeHoldLong\n",
    "TimeHoldLong = cycle-np.abs(PrBotHoldLong-holddepth)/speed \\\n",
    "  -PrBotHoldLong/speed \\\n",
    "            -surftime\n",
    "print(PrBotHoldLong/speed)\n",
    "print('TimeHoldLong: %1.0f'%np.round(TimeHoldLong))\n",
    "\n",
    "# get the maximum TimeCycleHoldLongBeg\n",
    "TCHLB = 2.*PrBotHoldShort/speed\n",
    "print('TimeCycleHoldLongBeg should be less than %d'%round(TCHLB))\n",
    "print('TimeDescentProfHoldLong should be greater than %d'%round(cycle))"
   ]
  },
  {
   "cell_type": "markdown",
   "metadata": {},
   "source": [
    "## Compare two files:"
   ]
  },
  {
   "cell_type": "code",
   "execution_count": 3,
   "metadata": {
    "collapsed": false
   },
   "outputs": [],
   "source": [
    "def getParams(ifile):\n",
    "    mp=dict()\n",
    "    ifp = open(ifile, mode='rt')\n",
    "    \n",
    "    for line in ifp:\n",
    "        if line.find('=') > 0:\n",
    "            if '#' in line:\n",
    "                i = line.find('#')\n",
    "                line = line[0:i]\n",
    "            line = line.strip()\n",
    "            if line.find('=') > 0:\n",
    "                tok = line.split('=')\n",
    "                if len(tok)!=2:\n",
    "                    sys.exit()\n",
    "\n",
    "                varnam=tok[0].strip()\n",
    "                varval=tok[1].strip()\n",
    "                mp[varnam]=varval\n",
    "    return mp\n"
   ]
  },
  {
   "cell_type": "code",
   "execution_count": 4,
   "metadata": {
    "collapsed": false
   },
   "outputs": [
    {
     "ename": "IOError",
     "evalue": "[Errno 2] No such file or directory: './MissionParams/jmklabseaparams.txt'",
     "output_type": "error",
     "traceback": [
      "\u001b[0;31m---------------------------------------------------------------------------\u001b[0m",
      "\u001b[0;31mIOError\u001b[0m                                   Traceback (most recent call last)",
      "\u001b[0;32m<ipython-input-4-f94c0a100aac>\u001b[0m in \u001b[0;36m<module>\u001b[0;34m()\u001b[0m\n\u001b[0;32m----> 1\u001b[0;31m \u001b[0mmpjmk\u001b[0m\u001b[0;34m=\u001b[0m\u001b[0mgetParams\u001b[0m\u001b[0;34m(\u001b[0m\u001b[0;34m'./MissionParams/jmklabseaparams.txt'\u001b[0m\u001b[0;34m)\u001b[0m\u001b[0;34m\u001b[0m\u001b[0m\n\u001b[0m\u001b[1;32m      2\u001b[0m \u001b[0mmprf\u001b[0m\u001b[0;34m=\u001b[0m\u001b[0mgetParams\u001b[0m\u001b[0;34m(\u001b[0m\u001b[0;34m'./MissionParams/Argo_labsea3_mission.txt'\u001b[0m\u001b[0;34m)\u001b[0m\u001b[0;34m\u001b[0m\u001b[0m\n\u001b[1;32m      3\u001b[0m \u001b[0;31m#print mpjmk\u001b[0m\u001b[0;34m\u001b[0m\u001b[0;34m\u001b[0m\u001b[0m\n\u001b[1;32m      4\u001b[0m \u001b[0;34m\u001b[0m\u001b[0m\n\u001b[1;32m      5\u001b[0m \u001b[0;32mprint\u001b[0m \u001b[0;34m'THESE ARE DIFFERENT  JMK vs RF'\u001b[0m\u001b[0;34m\u001b[0m\u001b[0m\n",
      "\u001b[0;32m<ipython-input-3-28f8806f9cf1>\u001b[0m in \u001b[0;36mgetParams\u001b[0;34m(ifile)\u001b[0m\n\u001b[1;32m      1\u001b[0m \u001b[0;32mdef\u001b[0m \u001b[0mgetParams\u001b[0m\u001b[0;34m(\u001b[0m\u001b[0mifile\u001b[0m\u001b[0;34m)\u001b[0m\u001b[0;34m:\u001b[0m\u001b[0;34m\u001b[0m\u001b[0m\n\u001b[1;32m      2\u001b[0m     \u001b[0mmp\u001b[0m\u001b[0;34m=\u001b[0m\u001b[0mdict\u001b[0m\u001b[0;34m(\u001b[0m\u001b[0;34m)\u001b[0m\u001b[0;34m\u001b[0m\u001b[0m\n\u001b[0;32m----> 3\u001b[0;31m     \u001b[0mifp\u001b[0m \u001b[0;34m=\u001b[0m \u001b[0mopen\u001b[0m\u001b[0;34m(\u001b[0m\u001b[0mifile\u001b[0m\u001b[0;34m,\u001b[0m \u001b[0mmode\u001b[0m\u001b[0;34m=\u001b[0m\u001b[0;34m'rt'\u001b[0m\u001b[0;34m)\u001b[0m\u001b[0;34m\u001b[0m\u001b[0m\n\u001b[0m\u001b[1;32m      4\u001b[0m \u001b[0;34m\u001b[0m\u001b[0m\n\u001b[1;32m      5\u001b[0m     \u001b[0;32mfor\u001b[0m \u001b[0mline\u001b[0m \u001b[0;32min\u001b[0m \u001b[0mifp\u001b[0m\u001b[0;34m:\u001b[0m\u001b[0;34m\u001b[0m\u001b[0m\n",
      "\u001b[0;31mIOError\u001b[0m: [Errno 2] No such file or directory: './MissionParams/jmklabseaparams.txt'"
     ]
    }
   ],
   "source": [
    "mpjmk=getParams('./MissionParams/jmklabseaparams.txt')\n",
    "mprf=getParams('./MissionParams/Argo_labsea3_mission.txt')\n",
    "#print mpjmk\n",
    "\n",
    "print 'THESE ARE DIFFERENT  JMK vs RF'\n",
    "for key,value in sorted(mpjmk.items()):\n",
    "    if key in mprf.keys():\n",
    "        if value!=mprf[key]:\n",
    "            print ('%30s'%key),'=',value,'  vs  ',mprf[key]\n",
    "    else:\n",
    "#        print key\n",
    "        pass\n",
    "print 'NOT IN JMK'\n",
    "for key,value in sorted(mprf.items()):\n",
    "    if not(key in mpjmk.keys()):\n",
    "        print key,value\n",
    "print 'NOT IN RF'\n",
    "for key,value in sorted(mpjmk.items()):\n",
    "    if not(key in mprf.keys()):\n",
    "        print key,value\n",
    "print 'THESE ARE THE SAME!'\n",
    "for key,value in sorted(mpjmk.items()):\n",
    "    if key in mprf.keys():\n",
    "        if value==mprf[key]:\n",
    "            print ('%30s'%key),'=',value,'  vs  ',mprf[key]\n",
    "    else:\n",
    "#        print key\n",
    "        pass"
   ]
  },
  {
   "cell_type": "code",
   "execution_count": 47,
   "metadata": {
    "collapsed": false
   },
   "outputs": [
    {
     "ename": "NameError",
     "evalue": "name '_asdict' is not defined",
     "output_type": "error",
     "traceback": [
      "\u001b[0;31m---------------------------------------------------------------------------\u001b[0m",
      "\u001b[0;31mNameError\u001b[0m                                 Traceback (most recent call last)",
      "\u001b[0;32m<ipython-input-47-2cfe1900aa80>\u001b[0m in \u001b[0;36m<module>\u001b[0;34m()\u001b[0m\n\u001b[0;32m----> 1\u001b[0;31m \u001b[0mmpd\u001b[0m\u001b[0;34m=\u001b[0m\u001b[0m_asdict\u001b[0m\u001b[0;34m(\u001b[0m\u001b[0mmp\u001b[0m\u001b[0;34m)\u001b[0m\u001b[0;34m\u001b[0m\u001b[0m\n\u001b[0m",
      "\u001b[0;31mNameError\u001b[0m: name '_asdict' is not defined"
     ]
    }
   ],
   "source": [
    "mpd=_asdict(mp)"
   ]
  },
  {
   "cell_type": "markdown",
   "metadata": {},
   "source": [
    "## Prettify files"
   ]
  },
  {
   "cell_type": "code",
   "execution_count": 120,
   "metadata": {
    "collapsed": false
   },
   "outputs": [],
   "source": [
    "def prettify(ifile,ofile):\n",
    "    mp=dict()\n",
    "    ifp = open(ifile, mode='rt')\n",
    "    ofp = open(ofile, mode='wt')\n",
    "    \n",
    "    for line in ifp:\n",
    "        if line.find('=') > 0:\n",
    "            tok = line.split('=',1)\n",
    "            line.split()\n",
    "            if len(tok)!=2:\n",
    "                sys.exit()\n",
    "\n",
    "            varnam=tok[0].strip()\n",
    "            varval=tok[1].strip()\n",
    "            st = varnam\n",
    "            stlen = len(st)\n",
    "            for i in range(27-stlen):\n",
    "                st = st+' '\n",
    "            mp[varnam]=st+'= '+tok[1][:-1]\n",
    "    \n",
    "    for key,value in sorted(mp.items()):\n",
    "        ofp.write(value+'\\n')\n",
    "    ofp.close()\n",
    "    ifp.close()"
   ]
  },
  {
   "cell_type": "code",
   "execution_count": 121,
   "metadata": {
    "collapsed": false
   },
   "outputs": [],
   "source": [
    "mp=prettify('EMAPEXLabSea15/MissionParams/Argo_labsea3_mission.txt','EMAPEXLabSea15/MissionParams/LabseaMission001.txt',)"
   ]
  },
  {
   "cell_type": "code",
   "execution_count": null,
   "metadata": {
    "collapsed": true
   },
   "outputs": [],
   "source": []
  }
 ],
 "metadata": {
  "kernelspec": {
   "display_name": "Python 2",
   "language": "python",
   "name": "python2"
  },
  "language_info": {
   "codemirror_mode": {
    "name": "ipython",
    "version": 2
   },
   "file_extension": ".py",
   "mimetype": "text/x-python",
   "name": "python",
   "nbconvert_exporter": "python",
   "pygments_lexer": "ipython2",
   "version": "2.7.10"
  }
 },
 "nbformat": 4,
 "nbformat_minor": 0
}
